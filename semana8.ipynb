{
  "nbformat": 4,
  "nbformat_minor": 0,
  "metadata": {
    "colab": {
      "provenance": [],
      "authorship_tag": "ABX9TyOi2MfN0r9uz8lX7IngjVak",
      "include_colab_link": true
    },
    "kernelspec": {
      "name": "python3",
      "display_name": "Python 3"
    },
    "language_info": {
      "name": "python"
    }
  },
  "cells": [
    {
      "cell_type": "markdown",
      "metadata": {
        "id": "view-in-github",
        "colab_type": "text"
      },
      "source": [
        "<a href=\"https://colab.research.google.com/github/Rasheed-Bennett/Cuaderno/blob/main/semana8.ipynb\" target=\"_parent\"><img src=\"https://colab.research.google.com/assets/colab-badge.svg\" alt=\"Open In Colab\"/></a>"
      ]
    },
    {
      "cell_type": "markdown",
      "source": [
        "## Semana 8"
      ],
      "metadata": {
        "id": "u33kwHRN-oiT"
      }
    },
    {
      "cell_type": "markdown",
      "source": [
        "### construirNumero_V2\n",
        "#### Codigo\n",
        "\n",
        "```\n",
        "'''\n",
        "nombre: construirNumero_V2\n",
        "entradas: una; lista\n",
        "salida: numero entero conformado con los elementos de lista\n",
        "restricciones: lista debe no estar vacia\n",
        "  los elementos de lista deben ser numeros enteros positivos\n",
        "'''\n",
        "def construirNumero_V2(lista):\n",
        "    if isinstance(lista, list):\n",
        "        if lista != []:\n",
        "            for x in lista:\n",
        "                if isinstance(x, int) and x >= 0:\n",
        "                    continue\n",
        "                else:\n",
        "                    return \"Error: los elementos de lista deben ser numeros enteros positivos\"\n",
        "            return construirNumero_V2_Aux(lista)\n",
        "        else:\n",
        "            return \"Error: lista no debe estar vacia\"\n",
        "    else:\n",
        "        return \"Error: debe ingresar una lista\"\n",
        "\n",
        "def largoNumero(num):\n",
        "    resultado = 0\n",
        "    while num != 0:\n",
        "        num //= 10\n",
        "        resultado += 1\n",
        "    if resultado == 0:\n",
        "        return 1\n",
        "    else:\n",
        "        return resultado\n",
        "\n",
        "def construirNumero_V2_Aux(lista):\n",
        "    resultado = 0\n",
        "    while lista != []:\n",
        "        potencia = largoNumero(resultado)\n",
        "        resultado = lista[-1] * 10 ** potencia + resultado\n",
        "        if lista[-1] == 0:\n",
        "            try:\n",
        "                resultado = lista[-2] * 10 ** (potencia + 1) + resultado\n",
        "                lista = lista[:-2]\n",
        "            except:\n",
        "                lista = lista[:-1]\n",
        "        else:\n",
        "            lista = lista[:-1]\n",
        "    return resultado // 10\n",
        "```"
      ],
      "metadata": {
        "id": "QsHMvbiT-wKb"
      }
    }
  ]
}