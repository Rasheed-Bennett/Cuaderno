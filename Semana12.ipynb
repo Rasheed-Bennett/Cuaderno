{
  "nbformat": 4,
  "nbformat_minor": 0,
  "metadata": {
    "colab": {
      "provenance": [],
      "authorship_tag": "ABX9TyOUYTj6qCFsdg80V718CPwX",
      "include_colab_link": true
    },
    "kernelspec": {
      "name": "python3",
      "display_name": "Python 3"
    },
    "language_info": {
      "name": "python"
    }
  },
  "cells": [
    {
      "cell_type": "markdown",
      "metadata": {
        "id": "view-in-github",
        "colab_type": "text"
      },
      "source": [
        "<a href=\"https://colab.research.google.com/github/Rasheed-Bennett/Cuaderno/blob/main/Semana12.ipynb\" target=\"_parent\"><img src=\"https://colab.research.google.com/assets/colab-badge.svg\" alt=\"Open In Colab\"/></a>"
      ]
    },
    {
      "cell_type": "markdown",
      "source": [
        "# Clases"
      ],
      "metadata": {
        "id": "v-YDFNOxfj-p"
      }
    },
    {
      "cell_type": "markdown",
      "source": [
        "## Circulo\n",
        "```\n",
        "class Circulo:\n",
        "    def __init__(self, radio):\n",
        "        self.radioCirculo = radio\n",
        "        self.pi = 3.14\n",
        "\n",
        "    def calcularArea(self):\n",
        "        resultado = 3.14 * (self.radioCirculo ** 2)\n",
        "        return resultado\n",
        "    def calcularPerimetro(self):\n",
        "        resultado = 2 * self.pi * self.radioCirculo\n",
        "        return resultado\n",
        "\n",
        "class rectangulo:\n",
        "    def __init__(self, alto, ancho):\n",
        "        self.alto = alto\n",
        "        self.ancho = ancho\n",
        "\n",
        "    def area(self):\n",
        "        resultado = self.alto * self.ancho\n",
        "        return resultado\n",
        "\n",
        "    def perimetro(self):\n",
        "        resultado = 2*self.ancho + 2*self.alto\n",
        "        return resultado\n",
        "\n",
        "    def mostralAncho(self):\n",
        "        ancho = self.ancho\n",
        "        return ancho\n",
        "```"
      ],
      "metadata": {
        "id": "ZDyfbjJmfqR2"
      }
    },
    {
      "cell_type": "markdown",
      "source": [
        "## Calculadora\n",
        "\n",
        "```\n",
        "class calculadora:\n",
        "    def __init__(self, operador1, operador2):\n",
        "        self.op1 = operador1\n",
        "        self.op2 = operador2\n",
        "\n",
        "    def suma(self):\n",
        "        suma = self.op1 + self.op2\n",
        "        return suma\n",
        "\n",
        "    def resta(self):\n",
        "        resultado = self.op1 - self.op2\n",
        "        return resultado\n",
        "\n",
        "    def multiplicacion(self):\n",
        "        resultado = self.op1 * self.op2\n",
        "        return resultado\n",
        "\n",
        "    def division(self):\n",
        "        resultado = self.op1 / self.op2\n",
        "        return resultado\n",
        "\n",
        "    def potencia(self):\n",
        "        resultado = self.op1**self.op2\n",
        "        return resultado\n",
        "```"
      ],
      "metadata": {
        "id": "LmTeYslBf1sI"
      }
    },
    {
      "cell_type": "markdown",
      "source": [
        "## Facturador\n",
        "\n",
        "```\n",
        "class facturador:\n",
        "    def __init__(self):\n",
        "        self.numFactura = 0\n",
        "        self.fecha = \"\"\n",
        "        self.cliente = \"\"\n",
        "        self.toImpuesto = 0\n",
        "        self.listaItem = []\n",
        "        self.toFactura = 0\n",
        "\n",
        "    def crearFactura(self, numero, fecha, cliente):\n",
        "        if numero > 0 and isinstance(numero, int):\n",
        "            if isinstance(fecha, str) and fecha != \"\":\n",
        "                if isinstance(cliente, str) and cliente != \"\":\n",
        "                    self.numFactura = numero\n",
        "                    self.cliente = cliente\n",
        "                    self.fecha = fecha\n",
        "                    print(self.fecha)\n",
        "                    print(self.cliente)\n",
        "                    return(self.numFactura)\n",
        "                else:\n",
        "                    return \"Error: debe ingresar un nombre\"\n",
        "            else:\n",
        "                return \"Error: debe ingresar una fecha\"\n",
        "        else:\n",
        "            return \"Error: el numero debe ser entero mayor a 0\"\n",
        "\n",
        "    def verTotal(self):\n",
        "        return self.toFactura + self.toImpuesto\n",
        "\n",
        "    def agregarItem(self, producto, precio, cantidad):\n",
        "        if producto != \"\" and isinstance(producto, str):\n",
        "            if isinstance(precio, int) and precio > 0:\n",
        "                if isinstance(cantidad, int) and cantidad > 0:\n",
        "                    self.listaItem += [[producto, precio, cantidad]]\n",
        "                    self.toImpuesto += 15 / 100 * (precio*cantidad)\n",
        "                    self.toFactura += (precio * cantidad)\n",
        "                    return self.listaItem\n",
        "                else:\n",
        "                    return \"Error debe tener almenos un producto\"\n",
        "            else:\n",
        "                return \"Error: el precio debe ser un numero entero mayor a 0\"\n",
        "        else:\n",
        "            return \"Errror: debe ingresar el nombre del producto\"\n",
        "\n",
        "    def verNumFactura(self):\n",
        "        return self.numFactura\n",
        "\n",
        "    def factura(self):\n",
        "        print(self.numFactura)\n",
        "        print(self.fecha)\n",
        "        print(self.cliente)\n",
        "        print(self.toFactura)\n",
        "        for i in self.listaItem:\n",
        "            print(i)\n",
        "        return self.toImpuesto\n",
        "```"
      ],
      "metadata": {
        "id": "Ei2m8SOHgB1T"
      }
    }
  ]
}