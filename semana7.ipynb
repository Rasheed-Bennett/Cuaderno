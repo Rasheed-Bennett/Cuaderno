{
  "nbformat": 4,
  "nbformat_minor": 0,
  "metadata": {
    "colab": {
      "provenance": [],
      "authorship_tag": "ABX9TyMGce5MrJkKKuUthmbLfqSO",
      "include_colab_link": true
    },
    "kernelspec": {
      "name": "python3",
      "display_name": "Python 3"
    },
    "language_info": {
      "name": "python"
    }
  },
  "cells": [
    {
      "cell_type": "markdown",
      "metadata": {
        "id": "view-in-github",
        "colab_type": "text"
      },
      "source": [
        "<a href=\"https://colab.research.google.com/github/Rasheed-Bennett/Cuaderno/blob/main/semana7.ipynb\" target=\"_parent\"><img src=\"https://colab.research.google.com/assets/colab-badge.svg\" alt=\"Open In Colab\"/></a>"
      ]
    },
    {
      "cell_type": "markdown",
      "source": [
        "# Semana 7"
      ],
      "metadata": {
        "id": "sDKOCP0Vaw-s"
      }
    },
    {
      "cell_type": "markdown",
      "source": [
        "## SepararElementosParesImpares\n",
        "\n",
        "### Codigo\n",
        "```\n",
        "'''\n",
        "nombre: separarParesImpares\n",
        "entradas: una; lista\n",
        "salida: dos sublistas, una contiene numeros pares y otra los numeros impares\n",
        "restricciones: lista no puede estar vacio\n",
        "                lista debe contener numeros enteros\n",
        "'''\n",
        "def separarParesImpares(lista):\n",
        "    if(isinstance(lista, list)):\n",
        "        if(lista != []):\n",
        "            resultado = [[], []]\n",
        "            for numero in lista:\n",
        "                if(isinstance(numero, int)):\n",
        "                    if(numero >= 0):\n",
        "                        if(numero % 2 == 0):\n",
        "                            resultado[0] += [numero]\n",
        "                        else:\n",
        "                            resultado[1] += [numero]\n",
        "                    else:\n",
        "                        numero *= -1\n",
        "                        if(numero % 2 == 0):\n",
        "                            resultado[0] += [numero * -1]\n",
        "                        else:\n",
        "                            resultado[1] += [numero * -1]\n",
        "                else:\n",
        "                    return \"Error: los elementos de la lista deben ser numeros enteros\"\n",
        "            return resultado\n",
        "        else:\n",
        "            return \"Error: lista no puede estar vacio\"\n",
        "    else:\n",
        "        return \"Error: debe ingresar una lista\"\n",
        "```"
      ],
      "metadata": {
        "id": "s17lmA8Ba048"
      }
    },
    {
      "cell_type": "markdown",
      "source": [
        "## eliminarElelmento\n",
        " \n",
        "### Codigo\n",
        "```\n",
        "'''\n",
        "nombre: eliminarElemento\n",
        "entradas: dos; lista, num\n",
        "salida: lista sin la primera vez que aparece num\n",
        "restricciones: lista no debe estar vacia\n",
        "        lista debe contener numeros enteros\n",
        "        num debe ser un numero entero\n",
        "'''\n",
        "def eliminarElemento(lista, num):\n",
        "    if(isinstance(lista, list)):\n",
        "        if(lista != []):\n",
        "            resultado = []\n",
        "            sacarNum = False\n",
        "            for numero in lista:\n",
        "                if(isinstance(numero, int)):\n",
        "                    if(sacarNum == False):\n",
        "                        if(numero == num):\n",
        "                            sacarNum = True\n",
        "                        else:\n",
        "                            resultado += [numero]\n",
        "                    else:\n",
        "                        resultado += [numero]\n",
        "                else:\n",
        "                    return \"Error: los elementos de la lista deben ser numeros enteros\"\n",
        "            return resultado\n",
        "        else:\n",
        "            return \"Error: lista no puede estar vacio\"\n",
        "    else:\n",
        "        return \"Error: debe ingresar una lista\"\n",
        "```"
      ],
      "metadata": {
        "id": "6W-0gz5ObNM8"
      }
    },
    {
      "cell_type": "markdown",
      "source": [
        "## eliminarElementos\n",
        "\n",
        "### Codigo\n",
        "\n",
        "```\n",
        "'''\n",
        "nombre: eliminarElementos\n",
        "entradas: dos; lista, num\n",
        "salida: lista sin num\n",
        "restricciones: lista no debe estar vacia\n",
        "        lista debe contener numeros enteros\n",
        "        num debe ser un numero entero\n",
        "'''\n",
        "def eliminarElementos(lista, num):\n",
        "    if(isinstance(lista, list)):\n",
        "        if(lista != []):\n",
        "            resultado = []\n",
        "            for numero in lista:\n",
        "                if(isinstance(numero, int)):\n",
        "                    if(numero == num):\n",
        "                        continue\n",
        "                    else:\n",
        "                        resultado += [numero]\n",
        "                else:\n",
        "                    return \"Error: los elementos de la lista deben ser numeros enteros\"\n",
        "            return resultado\n",
        "        else:\n",
        "            return \"Error: lista no puede estar vacio\"\n",
        "    else:\n",
        "        return \"Error: debe ingresar una lista\"\n",
        "```"
      ],
      "metadata": {
        "id": "MwP6BXjVbg0V"
      }
    },
    {
      "cell_type": "markdown",
      "source": [
        "## Ascendente\n",
        "\n",
        "### Codigo\n",
        "\n",
        "```\n",
        "'''\n",
        "nombre: eliminarElementos\n",
        "entradas: dos; lista, num\n",
        "salida: lista sin la primera vez que aparece num\n",
        "restricciones: lista no debe estar vacia\n",
        "        lista debe contener numeros enteros\n",
        "        num debe ser un numero entero\n",
        "'''\n",
        "def eliminarElemento(lista, num):\n",
        "    if(isinstance(lista, list)):\n",
        "        if(lista != []):\n",
        "            resultado = []\n",
        "            sacarNum = False\n",
        "            for numero in lista:\n",
        "                if(isinstance(numero, int)):\n",
        "                    if(sacarNum == False):\n",
        "                        if(numero == num):\n",
        "                            sacarNum = True\n",
        "                        else:\n",
        "                            resultado += [numero]\n",
        "                    else:\n",
        "                        resultado += [numero]\n",
        "                else:\n",
        "                    return \"Error: los elementos de la lista deben ser numeros enteros\"\n",
        "            return resultado\n",
        "        else:\n",
        "            return \"Error: lista no puede estar vacio\"\n",
        "    else:\n",
        "        return \"Error: debe ingresar una lista\"\n",
        "\n",
        "'''\n",
        "nombre: ascendente\n",
        "entradas: una; lista\n",
        "salidas: lista ascendente\n",
        "restricciones: lista no debe estar vacia\n",
        "        los elementos de lista deben ser numeros enteros\n",
        "'''\n",
        "def ascendente(lista):\n",
        "    if(isinstance(lista, list)):\n",
        "        if(lista != []):\n",
        "            resultado = []\n",
        "            numero = True\n",
        "            for elemento in lista:\n",
        "                if(isinstance(elemento, int)):\n",
        "                    continue\n",
        "                else:\n",
        "                    numero = False\n",
        "            if(numero == True):\n",
        "                while(lista != []):\n",
        "                    revisar = lista[0]\n",
        "                    for numero in lista:\n",
        "                        if(revisar > numero):\n",
        "                            revisar = numero\n",
        "                        else:\n",
        "                            continue\n",
        "                    lista = eliminarElemento(lista, revisar)\n",
        "                    resultado += [revisar]\n",
        "                return resultado\n",
        "            else:\n",
        "                return \"Error: los elementos de la lista deben ser numeros enteros\"\n",
        "        else:\n",
        "            return \"Error: lista no puede estar vacio\"\n",
        "    else:\n",
        "        return \"Error: debe ingresar una lista\"\n",
        "```"
      ],
      "metadata": {
        "id": "jVnOQuQdbssm"
      }
    }
  ]
}