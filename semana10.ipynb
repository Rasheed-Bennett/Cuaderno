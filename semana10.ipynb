{
  "nbformat": 4,
  "nbformat_minor": 0,
  "metadata": {
    "colab": {
      "provenance": [],
      "authorship_tag": "ABX9TyNvL1020UqQymX86bGdF/3y",
      "include_colab_link": true
    },
    "kernelspec": {
      "name": "python3",
      "display_name": "Python 3"
    },
    "language_info": {
      "name": "python"
    }
  },
  "cells": [
    {
      "cell_type": "markdown",
      "metadata": {
        "id": "view-in-github",
        "colab_type": "text"
      },
      "source": [
        "<a href=\"https://colab.research.google.com/github/Rasheed-Bennett/Cuaderno/blob/main/semana10.ipynb\" target=\"_parent\"><img src=\"https://colab.research.google.com/assets/colab-badge.svg\" alt=\"Open In Colab\"/></a>"
      ]
    },
    {
      "cell_type": "markdown",
      "source": [
        "```\n",
        "def ruta(ini, fin, matriz):\n",
        "    if isinstance(ini, list):\n",
        "        if isinstance(fin, list):\n",
        "            valido = validarMatriz(matriz)\n",
        "            if valido == True:\n",
        "                contar = 0\n",
        "                for elementos in ini:\n",
        "                    if isinstance(elementos, int) and elementos >= 0:\n",
        "                        contar += 1\n",
        "                    else:\n",
        "                        return \"Error: los elementos de inicio deben ser numeros enteros mayor o igual a 0\"\n",
        "                if contar == 2:\n",
        "                    for elementos in fin:\n",
        "                        if isinstance(fin, int) and fin >= 0:\n",
        "                            contar -= 1\n",
        "                        else:\n",
        "                            return \"Error: los elementos de fin deben ser numeros enteros mayor o igual a 0\"\n",
        "                    if contar == 0:\n",
        "                        try:\n",
        "                            matriz[ini[0]][ini[1]]\n",
        "                            matriz[fin[0]][fin[1]]\n",
        "                            return ruta_Aux(ini, fin, matriz)\n",
        "                        except:\n",
        "                            return \"Error: elemento de matriz fuera de rango\"\n",
        "                    else:\n",
        "                        return \"Error: solo debe haber dos elementos en fin\"\n",
        "                else:\n",
        "                    return \"Error: solo debe haber dos elementos en inicio\"\n",
        "            else:\n",
        "                return valido\n",
        "        else:\n",
        "            return \"Error: fin debe ser una lista\"\n",
        "    else:\n",
        "        return \"Error: inicio debe ser una lista\"\n",
        "\n",
        "def ruta_Aux(ini, fin, matriz):\n",
        "    resultado = []\n",
        "    resultado += [ini]\n",
        "    while ini != fin:\n",
        "        if ini[0] != fin[0]:\n",
        "            if ini[0] < fin[0]:\n",
        "                ini[0] += 1\n",
        "                resultado += [ini]\n",
        "            else:\n",
        "                ini[0] -= 1\n",
        "                resultado += [ini]\n",
        "        elif ini[1] != fin[1]:\n",
        "            if ini[1] < fin[1]:\n",
        "                ini[1] += 1\n",
        "                resultado += [ini]\n",
        "            else:\n",
        "                ini[1] -= 1\n",
        "                resultado += [ini]\n",
        "        else:\n",
        "            break\n",
        "    return resultado\n",
        "\n",
        "def validarMatriz(matriz):\n",
        "    contar = 0\n",
        "    for lista in matriz:\n",
        "        if contar == 0:\n",
        "            for num in lista:\n",
        "                if isinstance(num, int):\n",
        "                    contar +=1\n",
        "                else:\n",
        "                    return \"Error: los elementos de matriz deben ser numeros enteros\"\n",
        "        else:\n",
        "            copia = contar\n",
        "            for num in lista:\n",
        "                if isinstance(num, int):\n",
        "                    copia -=1\n",
        "                else:\n",
        "                    return \"Error: los elementos de matriz deben ser numeros enteros\"\n",
        "            if copia == 0:\n",
        "                continue\n",
        "            else:\n",
        "                return \"Error: Debe ingresar una matriz\"\n",
        "    return True\n",
        "```"
      ],
      "metadata": {
        "id": "O0AwoK9gsBi9"
      }
    }
  ]
}